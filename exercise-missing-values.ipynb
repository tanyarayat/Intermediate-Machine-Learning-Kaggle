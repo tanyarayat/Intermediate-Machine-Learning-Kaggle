{
 "cells": [
  {
   "cell_type": "markdown",
   "id": "9c47e1f5",
   "metadata": {
    "papermill": {
     "duration": 0.029054,
     "end_time": "2021-07-18T09:15:03.204433",
     "exception": false,
     "start_time": "2021-07-18T09:15:03.175379",
     "status": "completed"
    },
    "tags": []
   },
   "source": [
    "**This notebook is an exercise in the [Intermediate Machine Learning](https://www.kaggle.com/learn/intermediate-machine-learning) course.  You can reference the tutorial at [this link](https://www.kaggle.com/alexisbcook/missing-values).**\n",
    "\n",
    "---\n"
   ]
  },
  {
   "cell_type": "markdown",
   "id": "2973e96d",
   "metadata": {
    "papermill": {
     "duration": 0.027118,
     "end_time": "2021-07-18T09:15:03.259475",
     "exception": false,
     "start_time": "2021-07-18T09:15:03.232357",
     "status": "completed"
    },
    "tags": []
   },
   "source": [
    "Now it's your turn to test your new knowledge of **missing values** handling. You'll probably find it makes a big difference.\n",
    "\n",
    "# Setup\n",
    "\n",
    "The questions will give you feedback on your work. Run the following cell to set up the feedback system."
   ]
  },
  {
   "cell_type": "code",
   "execution_count": 1,
   "id": "ace91501",
   "metadata": {
    "execution": {
     "iopub.execute_input": "2021-07-18T09:15:03.320729Z",
     "iopub.status.busy": "2021-07-18T09:15:03.319484Z",
     "iopub.status.idle": "2021-07-18T09:15:03.515682Z",
     "shell.execute_reply": "2021-07-18T09:15:03.516332Z",
     "shell.execute_reply.started": "2021-07-18T08:35:10.501735Z"
    },
    "papermill": {
     "duration": 0.229144,
     "end_time": "2021-07-18T09:15:03.516714",
     "exception": false,
     "start_time": "2021-07-18T09:15:03.287570",
     "status": "completed"
    },
    "tags": []
   },
   "outputs": [
    {
     "name": "stdout",
     "output_type": "stream",
     "text": [
      "Setup Complete\n"
     ]
    }
   ],
   "source": [
    "# Set up code checking\n",
    "import os\n",
    "if not os.path.exists(\"../input/train.csv\"):\n",
    "    os.symlink(\"../input/home-data-for-ml-course/train.csv\", \"../input/train.csv\")  \n",
    "    os.symlink(\"../input/home-data-for-ml-course/test.csv\", \"../input/test.csv\") \n",
    "from learntools.core import binder\n",
    "binder.bind(globals())\n",
    "from learntools.ml_intermediate.ex2 import *\n",
    "print(\"Setup Complete\")"
   ]
  },
  {
   "cell_type": "markdown",
   "id": "6787caee",
   "metadata": {
    "papermill": {
     "duration": 0.02777,
     "end_time": "2021-07-18T09:15:03.572907",
     "exception": false,
     "start_time": "2021-07-18T09:15:03.545137",
     "status": "completed"
    },
    "tags": []
   },
   "source": [
    "In this exercise, you will work with data from the [Housing Prices Competition for Kaggle Learn Users](https://www.kaggle.com/c/home-data-for-ml-course). \n",
    "\n",
    "![Ames Housing dataset image](https://i.imgur.com/lTJVG4e.png)\n",
    "\n",
    "Run the next code cell without changes to load the training and validation sets in `X_train`, `X_valid`, `y_train`, and `y_valid`.  The test set is loaded in `X_test`."
   ]
  },
  {
   "cell_type": "code",
   "execution_count": 2,
   "id": "e8ea1d8a",
   "metadata": {
    "execution": {
     "iopub.execute_input": "2021-07-18T09:15:03.632438Z",
     "iopub.status.busy": "2021-07-18T09:15:03.631791Z",
     "iopub.status.idle": "2021-07-18T09:15:04.789732Z",
     "shell.execute_reply": "2021-07-18T09:15:04.789074Z",
     "shell.execute_reply.started": "2021-07-18T08:35:15.700890Z"
    },
    "papermill": {
     "duration": 1.189077,
     "end_time": "2021-07-18T09:15:04.789908",
     "exception": false,
     "start_time": "2021-07-18T09:15:03.600831",
     "status": "completed"
    },
    "tags": []
   },
   "outputs": [],
   "source": [
    "import pandas as pd\n",
    "from sklearn.model_selection import train_test_split\n",
    "\n",
    "# Read the data\n",
    "X_full = pd.read_csv('../input/train.csv', index_col='Id')\n",
    "X_test_full = pd.read_csv('../input/test.csv', index_col='Id')\n",
    "\n",
    "# Remove rows with missing target, separate target from predictors\n",
    "X_full.dropna(axis=0, subset=['SalePrice'], inplace=True)\n",
    "y = X_full.SalePrice\n",
    "X_full.drop(['SalePrice'], axis=1, inplace=True)\n",
    "\n",
    "# To keep things simple, we'll use only numerical predictors\n",
    "X = X_full.select_dtypes(exclude=['object'])\n",
    "X_test = X_test_full.select_dtypes(exclude=['object'])\n",
    "\n",
    "# Break off validation set from training data\n",
    "X_train, X_valid, y_train, y_valid = train_test_split(X, y, train_size=0.8, test_size=0.2,\n",
    "                                                      random_state=0)"
   ]
  },
  {
   "cell_type": "markdown",
   "id": "6f6777a2",
   "metadata": {
    "papermill": {
     "duration": 0.028682,
     "end_time": "2021-07-18T09:15:04.846736",
     "exception": false,
     "start_time": "2021-07-18T09:15:04.818054",
     "status": "completed"
    },
    "tags": []
   },
   "source": [
    "Use the next code cell to print the first five rows of the data."
   ]
  },
  {
   "cell_type": "code",
   "execution_count": 3,
   "id": "e368024e",
   "metadata": {
    "execution": {
     "iopub.execute_input": "2021-07-18T09:15:04.913814Z",
     "iopub.status.busy": "2021-07-18T09:15:04.913049Z",
     "iopub.status.idle": "2021-07-18T09:15:04.945340Z",
     "shell.execute_reply": "2021-07-18T09:15:04.945856Z",
     "shell.execute_reply.started": "2021-07-18T08:35:25.885474Z"
    },
    "papermill": {
     "duration": 0.070997,
     "end_time": "2021-07-18T09:15:04.946056",
     "exception": false,
     "start_time": "2021-07-18T09:15:04.875059",
     "status": "completed"
    },
    "tags": []
   },
   "outputs": [
    {
     "data": {
      "text/html": [
       "<div>\n",
       "<style scoped>\n",
       "    .dataframe tbody tr th:only-of-type {\n",
       "        vertical-align: middle;\n",
       "    }\n",
       "\n",
       "    .dataframe tbody tr th {\n",
       "        vertical-align: top;\n",
       "    }\n",
       "\n",
       "    .dataframe thead th {\n",
       "        text-align: right;\n",
       "    }\n",
       "</style>\n",
       "<table border=\"1\" class=\"dataframe\">\n",
       "  <thead>\n",
       "    <tr style=\"text-align: right;\">\n",
       "      <th></th>\n",
       "      <th>MSSubClass</th>\n",
       "      <th>LotFrontage</th>\n",
       "      <th>LotArea</th>\n",
       "      <th>OverallQual</th>\n",
       "      <th>OverallCond</th>\n",
       "      <th>YearBuilt</th>\n",
       "      <th>YearRemodAdd</th>\n",
       "      <th>MasVnrArea</th>\n",
       "      <th>BsmtFinSF1</th>\n",
       "      <th>BsmtFinSF2</th>\n",
       "      <th>...</th>\n",
       "      <th>GarageArea</th>\n",
       "      <th>WoodDeckSF</th>\n",
       "      <th>OpenPorchSF</th>\n",
       "      <th>EnclosedPorch</th>\n",
       "      <th>3SsnPorch</th>\n",
       "      <th>ScreenPorch</th>\n",
       "      <th>PoolArea</th>\n",
       "      <th>MiscVal</th>\n",
       "      <th>MoSold</th>\n",
       "      <th>YrSold</th>\n",
       "    </tr>\n",
       "    <tr>\n",
       "      <th>Id</th>\n",
       "      <th></th>\n",
       "      <th></th>\n",
       "      <th></th>\n",
       "      <th></th>\n",
       "      <th></th>\n",
       "      <th></th>\n",
       "      <th></th>\n",
       "      <th></th>\n",
       "      <th></th>\n",
       "      <th></th>\n",
       "      <th></th>\n",
       "      <th></th>\n",
       "      <th></th>\n",
       "      <th></th>\n",
       "      <th></th>\n",
       "      <th></th>\n",
       "      <th></th>\n",
       "      <th></th>\n",
       "      <th></th>\n",
       "      <th></th>\n",
       "      <th></th>\n",
       "    </tr>\n",
       "  </thead>\n",
       "  <tbody>\n",
       "    <tr>\n",
       "      <th>619</th>\n",
       "      <td>20</td>\n",
       "      <td>90.0</td>\n",
       "      <td>11694</td>\n",
       "      <td>9</td>\n",
       "      <td>5</td>\n",
       "      <td>2007</td>\n",
       "      <td>2007</td>\n",
       "      <td>452.0</td>\n",
       "      <td>48</td>\n",
       "      <td>0</td>\n",
       "      <td>...</td>\n",
       "      <td>774</td>\n",
       "      <td>0</td>\n",
       "      <td>108</td>\n",
       "      <td>0</td>\n",
       "      <td>0</td>\n",
       "      <td>260</td>\n",
       "      <td>0</td>\n",
       "      <td>0</td>\n",
       "      <td>7</td>\n",
       "      <td>2007</td>\n",
       "    </tr>\n",
       "    <tr>\n",
       "      <th>871</th>\n",
       "      <td>20</td>\n",
       "      <td>60.0</td>\n",
       "      <td>6600</td>\n",
       "      <td>5</td>\n",
       "      <td>5</td>\n",
       "      <td>1962</td>\n",
       "      <td>1962</td>\n",
       "      <td>0.0</td>\n",
       "      <td>0</td>\n",
       "      <td>0</td>\n",
       "      <td>...</td>\n",
       "      <td>308</td>\n",
       "      <td>0</td>\n",
       "      <td>0</td>\n",
       "      <td>0</td>\n",
       "      <td>0</td>\n",
       "      <td>0</td>\n",
       "      <td>0</td>\n",
       "      <td>0</td>\n",
       "      <td>8</td>\n",
       "      <td>2009</td>\n",
       "    </tr>\n",
       "    <tr>\n",
       "      <th>93</th>\n",
       "      <td>30</td>\n",
       "      <td>80.0</td>\n",
       "      <td>13360</td>\n",
       "      <td>5</td>\n",
       "      <td>7</td>\n",
       "      <td>1921</td>\n",
       "      <td>2006</td>\n",
       "      <td>0.0</td>\n",
       "      <td>713</td>\n",
       "      <td>0</td>\n",
       "      <td>...</td>\n",
       "      <td>432</td>\n",
       "      <td>0</td>\n",
       "      <td>0</td>\n",
       "      <td>44</td>\n",
       "      <td>0</td>\n",
       "      <td>0</td>\n",
       "      <td>0</td>\n",
       "      <td>0</td>\n",
       "      <td>8</td>\n",
       "      <td>2009</td>\n",
       "    </tr>\n",
       "    <tr>\n",
       "      <th>818</th>\n",
       "      <td>20</td>\n",
       "      <td>NaN</td>\n",
       "      <td>13265</td>\n",
       "      <td>8</td>\n",
       "      <td>5</td>\n",
       "      <td>2002</td>\n",
       "      <td>2002</td>\n",
       "      <td>148.0</td>\n",
       "      <td>1218</td>\n",
       "      <td>0</td>\n",
       "      <td>...</td>\n",
       "      <td>857</td>\n",
       "      <td>150</td>\n",
       "      <td>59</td>\n",
       "      <td>0</td>\n",
       "      <td>0</td>\n",
       "      <td>0</td>\n",
       "      <td>0</td>\n",
       "      <td>0</td>\n",
       "      <td>7</td>\n",
       "      <td>2008</td>\n",
       "    </tr>\n",
       "    <tr>\n",
       "      <th>303</th>\n",
       "      <td>20</td>\n",
       "      <td>118.0</td>\n",
       "      <td>13704</td>\n",
       "      <td>7</td>\n",
       "      <td>5</td>\n",
       "      <td>2001</td>\n",
       "      <td>2002</td>\n",
       "      <td>150.0</td>\n",
       "      <td>0</td>\n",
       "      <td>0</td>\n",
       "      <td>...</td>\n",
       "      <td>843</td>\n",
       "      <td>468</td>\n",
       "      <td>81</td>\n",
       "      <td>0</td>\n",
       "      <td>0</td>\n",
       "      <td>0</td>\n",
       "      <td>0</td>\n",
       "      <td>0</td>\n",
       "      <td>1</td>\n",
       "      <td>2006</td>\n",
       "    </tr>\n",
       "  </tbody>\n",
       "</table>\n",
       "<p>5 rows × 36 columns</p>\n",
       "</div>"
      ],
      "text/plain": [
       "     MSSubClass  LotFrontage  LotArea  OverallQual  OverallCond  YearBuilt  \\\n",
       "Id                                                                           \n",
       "619          20         90.0    11694            9            5       2007   \n",
       "871          20         60.0     6600            5            5       1962   \n",
       "93           30         80.0    13360            5            7       1921   \n",
       "818          20          NaN    13265            8            5       2002   \n",
       "303          20        118.0    13704            7            5       2001   \n",
       "\n",
       "     YearRemodAdd  MasVnrArea  BsmtFinSF1  BsmtFinSF2  ...  GarageArea  \\\n",
       "Id                                                     ...               \n",
       "619          2007       452.0          48           0  ...         774   \n",
       "871          1962         0.0           0           0  ...         308   \n",
       "93           2006         0.0         713           0  ...         432   \n",
       "818          2002       148.0        1218           0  ...         857   \n",
       "303          2002       150.0           0           0  ...         843   \n",
       "\n",
       "     WoodDeckSF  OpenPorchSF  EnclosedPorch  3SsnPorch  ScreenPorch  PoolArea  \\\n",
       "Id                                                                              \n",
       "619           0          108              0          0          260         0   \n",
       "871           0            0              0          0            0         0   \n",
       "93            0            0             44          0            0         0   \n",
       "818         150           59              0          0            0         0   \n",
       "303         468           81              0          0            0         0   \n",
       "\n",
       "     MiscVal  MoSold  YrSold  \n",
       "Id                            \n",
       "619        0       7    2007  \n",
       "871        0       8    2009  \n",
       "93         0       8    2009  \n",
       "818        0       7    2008  \n",
       "303        0       1    2006  \n",
       "\n",
       "[5 rows x 36 columns]"
      ]
     },
     "execution_count": 3,
     "metadata": {},
     "output_type": "execute_result"
    }
   ],
   "source": [
    "X_train.head()"
   ]
  },
  {
   "cell_type": "markdown",
   "id": "ec0a3b6e",
   "metadata": {
    "papermill": {
     "duration": 0.031079,
     "end_time": "2021-07-18T09:15:05.007142",
     "exception": false,
     "start_time": "2021-07-18T09:15:04.976063",
     "status": "completed"
    },
    "tags": []
   },
   "source": [
    "You can already see a few missing values in the first several rows.  In the next step, you'll obtain a more comprehensive understanding of the missing values in the dataset.\n",
    "\n",
    "# Step 1: Preliminary investigation\n",
    "\n",
    "Run the code cell below without changes."
   ]
  },
  {
   "cell_type": "code",
   "execution_count": 4,
   "id": "37eea552",
   "metadata": {
    "execution": {
     "iopub.execute_input": "2021-07-18T09:15:05.073086Z",
     "iopub.status.busy": "2021-07-18T09:15:05.072056Z",
     "iopub.status.idle": "2021-07-18T09:15:05.082995Z",
     "shell.execute_reply": "2021-07-18T09:15:05.082426Z",
     "shell.execute_reply.started": "2021-07-18T08:35:54.395748Z"
    },
    "papermill": {
     "duration": 0.045108,
     "end_time": "2021-07-18T09:15:05.083162",
     "exception": false,
     "start_time": "2021-07-18T09:15:05.038054",
     "status": "completed"
    },
    "tags": []
   },
   "outputs": [
    {
     "name": "stdout",
     "output_type": "stream",
     "text": [
      "(1168, 36)\n",
      "LotFrontage    212\n",
      "MasVnrArea       6\n",
      "GarageYrBlt     58\n",
      "dtype: int64\n"
     ]
    }
   ],
   "source": [
    "# Shape of training data (num_rows, num_columns)\n",
    "print(X_train.shape)\n",
    "\n",
    "# Number of missing values in each column of training data\n",
    "missing_val_count_by_column = (X_train.isnull().sum())\n",
    "print(missing_val_count_by_column[missing_val_count_by_column > 0])"
   ]
  },
  {
   "cell_type": "markdown",
   "id": "b5307d4e",
   "metadata": {
    "papermill": {
     "duration": 0.029556,
     "end_time": "2021-07-18T09:15:05.143515",
     "exception": false,
     "start_time": "2021-07-18T09:15:05.113959",
     "status": "completed"
    },
    "tags": []
   },
   "source": [
    "### Part A\n",
    "\n",
    "Use the above output to answer the questions below."
   ]
  },
  {
   "cell_type": "code",
   "execution_count": 5,
   "id": "262bddc1",
   "metadata": {
    "execution": {
     "iopub.execute_input": "2021-07-18T09:15:05.207617Z",
     "iopub.status.busy": "2021-07-18T09:15:05.206967Z",
     "iopub.status.idle": "2021-07-18T09:15:05.211434Z",
     "shell.execute_reply": "2021-07-18T09:15:05.212063Z",
     "shell.execute_reply.started": "2021-07-18T08:37:15.028878Z"
    },
    "papermill": {
     "duration": 0.039928,
     "end_time": "2021-07-18T09:15:05.212231",
     "exception": false,
     "start_time": "2021-07-18T09:15:05.172303",
     "status": "completed"
    },
    "tags": []
   },
   "outputs": [
    {
     "data": {
      "application/javascript": [
       "parent.postMessage({\"jupyterEvent\": \"custom.exercise_interaction\", \"data\": {\"outcomeType\": 1, \"valueTowardsCompletion\": 1.0, \"interactionType\": 1, \"questionType\": 1, \"questionId\": \"1.1_InvestigateEquality\", \"learnToolsVersion\": \"0.3.4\", \"failureMessage\": \"\", \"exceptionClass\": \"\", \"trace\": \"\"}}, \"*\")"
      ],
      "text/plain": [
       "<IPython.core.display.Javascript object>"
      ]
     },
     "metadata": {},
     "output_type": "display_data"
    },
    {
     "data": {
      "text/markdown": [
       "<span style=\"color:#33cc33\">Correct</span>"
      ],
      "text/plain": [
       "Correct"
      ]
     },
     "metadata": {},
     "output_type": "display_data"
    }
   ],
   "source": [
    "# Fill in the line below: How many rows are in the training data?\n",
    "num_rows = 1168\n",
    "\n",
    "# Fill in the line below: How many columns in the training data\n",
    "# have missing values?\n",
    "num_cols_with_missing = 3\n",
    "\n",
    "# Fill in the line below: How many missing entries are contained in \n",
    "# all of the training data?\n",
    "tot_missing = 276\n",
    "\n",
    "# Check your answers\n",
    "step_1.a.check()"
   ]
  },
  {
   "cell_type": "code",
   "execution_count": 6,
   "id": "a39bc0f2",
   "metadata": {
    "execution": {
     "iopub.execute_input": "2021-07-18T09:15:05.274853Z",
     "iopub.status.busy": "2021-07-18T09:15:05.274243Z",
     "iopub.status.idle": "2021-07-18T09:15:05.277306Z",
     "shell.execute_reply": "2021-07-18T09:15:05.277878Z"
    },
    "papermill": {
     "duration": 0.03614,
     "end_time": "2021-07-18T09:15:05.278055",
     "exception": false,
     "start_time": "2021-07-18T09:15:05.241915",
     "status": "completed"
    },
    "tags": []
   },
   "outputs": [],
   "source": [
    "# Lines below will give you a hint or solution code\n",
    "#step_1.a.hint()\n",
    "#step_1.a.solution()"
   ]
  },
  {
   "cell_type": "markdown",
   "id": "6173662d",
   "metadata": {
    "papermill": {
     "duration": 0.030068,
     "end_time": "2021-07-18T09:15:05.338003",
     "exception": false,
     "start_time": "2021-07-18T09:15:05.307935",
     "status": "completed"
    },
    "tags": []
   },
   "source": [
    "### Part B\n",
    "Considering your answers above, what do you think is likely the best approach to dealing with the missing values?"
   ]
  },
  {
   "cell_type": "code",
   "execution_count": 7,
   "id": "660eed90",
   "metadata": {
    "execution": {
     "iopub.execute_input": "2021-07-18T09:15:05.403668Z",
     "iopub.status.busy": "2021-07-18T09:15:05.402977Z",
     "iopub.status.idle": "2021-07-18T09:15:05.408737Z",
     "shell.execute_reply": "2021-07-18T09:15:05.408064Z",
     "shell.execute_reply.started": "2021-07-18T08:37:26.177735Z"
    },
    "papermill": {
     "duration": 0.040842,
     "end_time": "2021-07-18T09:15:05.408878",
     "exception": false,
     "start_time": "2021-07-18T09:15:05.368036",
     "status": "completed"
    },
    "tags": []
   },
   "outputs": [
    {
     "data": {
      "application/javascript": [
       "parent.postMessage({\"jupyterEvent\": \"custom.exercise_interaction\", \"data\": {\"outcomeType\": 1, \"valueTowardsCompletion\": 1.0, \"interactionType\": 1, \"questionType\": 4, \"questionId\": \"1.2_InvestigateThought\", \"learnToolsVersion\": \"0.3.4\", \"failureMessage\": \"\", \"exceptionClass\": \"\", \"trace\": \"\"}}, \"*\")"
      ],
      "text/plain": [
       "<IPython.core.display.Javascript object>"
      ]
     },
     "metadata": {},
     "output_type": "display_data"
    },
    {
     "data": {
      "text/markdown": [
       "<span style=\"color:#33cc33\">Correct:</span> \n",
       "\n",
       "Since there are relatively few missing entries in the data (the column with the greatest percentage of missing values is missing less than 20% of its entries), we can expect that dropping columns is unlikely to yield good results.  This is because we'd be throwing away a lot of valuable data, and so imputation will likely perform better."
      ],
      "text/plain": [
       "Correct: \n",
       "\n",
       "Since there are relatively few missing entries in the data (the column with the greatest percentage of missing values is missing less than 20% of its entries), we can expect that dropping columns is unlikely to yield good results.  This is because we'd be throwing away a lot of valuable data, and so imputation will likely perform better."
      ]
     },
     "metadata": {},
     "output_type": "display_data"
    }
   ],
   "source": [
    "# Check your answer (Run this code cell to receive credit!)\n",
    "step_1.b.check()"
   ]
  },
  {
   "cell_type": "code",
   "execution_count": 8,
   "id": "1454810c",
   "metadata": {
    "execution": {
     "iopub.execute_input": "2021-07-18T09:15:05.475697Z",
     "iopub.status.busy": "2021-07-18T09:15:05.475020Z",
     "iopub.status.idle": "2021-07-18T09:15:05.477044Z",
     "shell.execute_reply": "2021-07-18T09:15:05.477510Z"
    },
    "papermill": {
     "duration": 0.037688,
     "end_time": "2021-07-18T09:15:05.477743",
     "exception": false,
     "start_time": "2021-07-18T09:15:05.440055",
     "status": "completed"
    },
    "tags": []
   },
   "outputs": [],
   "source": [
    "#step_1.b.hint()"
   ]
  },
  {
   "cell_type": "markdown",
   "id": "43301689",
   "metadata": {
    "papermill": {
     "duration": 0.031906,
     "end_time": "2021-07-18T09:15:05.542831",
     "exception": false,
     "start_time": "2021-07-18T09:15:05.510925",
     "status": "completed"
    },
    "tags": []
   },
   "source": [
    "To compare different approaches to dealing with missing values, you'll use the same `score_dataset()` function from the tutorial.  This function reports the [mean absolute error](https://en.wikipedia.org/wiki/Mean_absolute_error) (MAE) from a random forest model."
   ]
  },
  {
   "cell_type": "code",
   "execution_count": 9,
   "id": "39ddc3c0",
   "metadata": {
    "execution": {
     "iopub.execute_input": "2021-07-18T09:15:05.610858Z",
     "iopub.status.busy": "2021-07-18T09:15:05.610205Z",
     "iopub.status.idle": "2021-07-18T09:15:05.820930Z",
     "shell.execute_reply": "2021-07-18T09:15:05.820323Z",
     "shell.execute_reply.started": "2021-07-18T08:37:36.132907Z"
    },
    "papermill": {
     "duration": 0.245748,
     "end_time": "2021-07-18T09:15:05.821082",
     "exception": false,
     "start_time": "2021-07-18T09:15:05.575334",
     "status": "completed"
    },
    "tags": []
   },
   "outputs": [],
   "source": [
    "from sklearn.ensemble import RandomForestRegressor\n",
    "from sklearn.metrics import mean_absolute_error\n",
    "\n",
    "# Function for comparing different approaches\n",
    "def score_dataset(X_train, X_valid, y_train, y_valid):\n",
    "    model = RandomForestRegressor(n_estimators=100, random_state=0)\n",
    "    model.fit(X_train, y_train)\n",
    "    preds = model.predict(X_valid)\n",
    "    return mean_absolute_error(y_valid, preds)"
   ]
  },
  {
   "cell_type": "markdown",
   "id": "3b591237",
   "metadata": {
    "papermill": {
     "duration": 0.030867,
     "end_time": "2021-07-18T09:15:05.883029",
     "exception": false,
     "start_time": "2021-07-18T09:15:05.852162",
     "status": "completed"
    },
    "tags": []
   },
   "source": [
    "# Step 2: Drop columns with missing values\n",
    "\n",
    "In this step, you'll preprocess the data in `X_train` and `X_valid` to remove columns with missing values.  Set the preprocessed DataFrames to `reduced_X_train` and `reduced_X_valid`, respectively.  "
   ]
  },
  {
   "cell_type": "code",
   "execution_count": 10,
   "id": "9b9d1c0b",
   "metadata": {
    "execution": {
     "iopub.execute_input": "2021-07-18T09:15:05.948594Z",
     "iopub.status.busy": "2021-07-18T09:15:05.947893Z",
     "iopub.status.idle": "2021-07-18T09:15:05.977720Z",
     "shell.execute_reply": "2021-07-18T09:15:05.977185Z",
     "shell.execute_reply.started": "2021-07-18T09:10:50.485476Z"
    },
    "papermill": {
     "duration": 0.063809,
     "end_time": "2021-07-18T09:15:05.977866",
     "exception": false,
     "start_time": "2021-07-18T09:15:05.914057",
     "status": "completed"
    },
    "tags": []
   },
   "outputs": [
    {
     "data": {
      "application/javascript": [
       "parent.postMessage({\"jupyterEvent\": \"custom.exercise_interaction\", \"data\": {\"outcomeType\": 1, \"valueTowardsCompletion\": 1.0, \"interactionType\": 1, \"questionType\": 2, \"questionId\": \"2_DropMissing\", \"learnToolsVersion\": \"0.3.4\", \"failureMessage\": \"\", \"exceptionClass\": \"\", \"trace\": \"\"}}, \"*\")"
      ],
      "text/plain": [
       "<IPython.core.display.Javascript object>"
      ]
     },
     "metadata": {},
     "output_type": "display_data"
    },
    {
     "data": {
      "text/markdown": [
       "<span style=\"color:#33cc33\">Correct</span>"
      ],
      "text/plain": [
       "Correct"
      ]
     },
     "metadata": {},
     "output_type": "display_data"
    }
   ],
   "source": [
    "# Fill in the line below: get names of columns with missing values\n",
    "cols_with_missing = [col for col in X_train.columns\n",
    "                     if X_train[col].isnull().any()]\n",
    "\n",
    "# Fill in the lines below: drop columns in training and validation data\n",
    "reduced_X_train = X_train.drop(cols_with_missing, axis=1)\n",
    "reduced_X_valid = X_valid.drop(cols_with_missing, axis=1)\n",
    "# Check your answers\n",
    "step_2.check()"
   ]
  },
  {
   "cell_type": "code",
   "execution_count": 11,
   "id": "72ee20a6",
   "metadata": {
    "execution": {
     "iopub.execute_input": "2021-07-18T09:15:06.048680Z",
     "iopub.status.busy": "2021-07-18T09:15:06.047987Z",
     "iopub.status.idle": "2021-07-18T09:15:06.051339Z",
     "shell.execute_reply": "2021-07-18T09:15:06.050789Z",
     "shell.execute_reply.started": "2021-07-18T09:10:56.033752Z"
    },
    "papermill": {
     "duration": 0.040526,
     "end_time": "2021-07-18T09:15:06.051477",
     "exception": false,
     "start_time": "2021-07-18T09:15:06.010951",
     "status": "completed"
    },
    "tags": []
   },
   "outputs": [],
   "source": [
    "# Lines below will give you a hint or solution code\n",
    "#step_2.hint()\n",
    "#step_2.solution()"
   ]
  },
  {
   "cell_type": "markdown",
   "id": "b4abbdd7",
   "metadata": {
    "papermill": {
     "duration": 0.0318,
     "end_time": "2021-07-18T09:15:06.115732",
     "exception": false,
     "start_time": "2021-07-18T09:15:06.083932",
     "status": "completed"
    },
    "tags": []
   },
   "source": [
    "Run the next code cell without changes to obtain the MAE for this approach."
   ]
  },
  {
   "cell_type": "code",
   "execution_count": 12,
   "id": "9b9abf98",
   "metadata": {
    "execution": {
     "iopub.execute_input": "2021-07-18T09:15:06.184236Z",
     "iopub.status.busy": "2021-07-18T09:15:06.183274Z",
     "iopub.status.idle": "2021-07-18T09:15:07.454507Z",
     "shell.execute_reply": "2021-07-18T09:15:07.453944Z",
     "shell.execute_reply.started": "2021-07-18T09:10:59.375093Z"
    },
    "papermill": {
     "duration": 1.306562,
     "end_time": "2021-07-18T09:15:07.454692",
     "exception": false,
     "start_time": "2021-07-18T09:15:06.148130",
     "status": "completed"
    },
    "tags": []
   },
   "outputs": [
    {
     "name": "stdout",
     "output_type": "stream",
     "text": [
      "MAE (Drop columns with missing values):\n",
      "17837.82570776256\n"
     ]
    }
   ],
   "source": [
    "print(\"MAE (Drop columns with missing values):\")\n",
    "print(score_dataset(reduced_X_train, reduced_X_valid, y_train, y_valid))"
   ]
  },
  {
   "cell_type": "markdown",
   "id": "d020d131",
   "metadata": {
    "papermill": {
     "duration": 0.032435,
     "end_time": "2021-07-18T09:15:07.520581",
     "exception": false,
     "start_time": "2021-07-18T09:15:07.488146",
     "status": "completed"
    },
    "tags": []
   },
   "source": [
    "# Step 3: Imputation\n",
    "\n",
    "### Part A\n",
    "\n",
    "Use the next code cell to impute missing values with the mean value along each column.  Set the preprocessed DataFrames to `imputed_X_train` and `imputed_X_valid`.  Make sure that the column names match those in `X_train` and `X_valid`."
   ]
  },
  {
   "cell_type": "code",
   "execution_count": 13,
   "id": "2bc683c3",
   "metadata": {
    "execution": {
     "iopub.execute_input": "2021-07-18T09:15:07.593264Z",
     "iopub.status.busy": "2021-07-18T09:15:07.592473Z",
     "iopub.status.idle": "2021-07-18T09:15:07.626806Z",
     "shell.execute_reply": "2021-07-18T09:15:07.626273Z",
     "shell.execute_reply.started": "2021-07-18T09:12:10.535273Z"
    },
    "papermill": {
     "duration": 0.073203,
     "end_time": "2021-07-18T09:15:07.626962",
     "exception": false,
     "start_time": "2021-07-18T09:15:07.553759",
     "status": "completed"
    },
    "tags": []
   },
   "outputs": [
    {
     "data": {
      "application/javascript": [
       "parent.postMessage({\"jupyterEvent\": \"custom.exercise_interaction\", \"data\": {\"outcomeType\": 1, \"valueTowardsCompletion\": 1.0, \"interactionType\": 1, \"questionType\": 2, \"questionId\": \"3.1_ImputeCode\", \"learnToolsVersion\": \"0.3.4\", \"failureMessage\": \"\", \"exceptionClass\": \"\", \"trace\": \"\"}}, \"*\")"
      ],
      "text/plain": [
       "<IPython.core.display.Javascript object>"
      ]
     },
     "metadata": {},
     "output_type": "display_data"
    },
    {
     "data": {
      "text/markdown": [
       "<span style=\"color:#33cc33\">Correct</span>"
      ],
      "text/plain": [
       "Correct"
      ]
     },
     "metadata": {},
     "output_type": "display_data"
    }
   ],
   "source": [
    "from sklearn.impute import SimpleImputer\n",
    "\n",
    "# Fill in the lines below: imputation\n",
    "my_imputer = SimpleImputer()\n",
    "imputed_X_train = pd.DataFrame(my_imputer.fit_transform(X_train))\n",
    "imputed_X_valid = pd.DataFrame(my_imputer.transform(X_valid))\n",
    "\n",
    "# Fill in the lines below: imputation removed column names; put them back\n",
    "imputed_X_train.columns = X_train.columns\n",
    "imputed_X_valid.columns = X_valid.columns\n",
    "\n",
    "# Check your answers\n",
    "step_3.a.check()"
   ]
  },
  {
   "cell_type": "code",
   "execution_count": 14,
   "id": "46277007",
   "metadata": {
    "execution": {
     "iopub.execute_input": "2021-07-18T09:15:07.699407Z",
     "iopub.status.busy": "2021-07-18T09:15:07.698793Z",
     "iopub.status.idle": "2021-07-18T09:15:07.702043Z",
     "shell.execute_reply": "2021-07-18T09:15:07.701395Z"
    },
    "papermill": {
     "duration": 0.041361,
     "end_time": "2021-07-18T09:15:07.702191",
     "exception": false,
     "start_time": "2021-07-18T09:15:07.660830",
     "status": "completed"
    },
    "tags": []
   },
   "outputs": [],
   "source": [
    "# Lines below will give you a hint or solution code\n",
    "#step_3.a.hint()\n",
    "#step_3.a.solution()"
   ]
  },
  {
   "cell_type": "markdown",
   "id": "36d0ef00",
   "metadata": {
    "papermill": {
     "duration": 0.033276,
     "end_time": "2021-07-18T09:15:07.769531",
     "exception": false,
     "start_time": "2021-07-18T09:15:07.736255",
     "status": "completed"
    },
    "tags": []
   },
   "source": [
    "Run the next code cell without changes to obtain the MAE for this approach."
   ]
  },
  {
   "cell_type": "code",
   "execution_count": 15,
   "id": "d708b4d3",
   "metadata": {
    "execution": {
     "iopub.execute_input": "2021-07-18T09:15:07.845217Z",
     "iopub.status.busy": "2021-07-18T09:15:07.844489Z",
     "iopub.status.idle": "2021-07-18T09:15:09.231237Z",
     "shell.execute_reply": "2021-07-18T09:15:09.230715Z",
     "shell.execute_reply.started": "2021-07-18T09:12:18.566080Z"
    },
    "papermill": {
     "duration": 1.428026,
     "end_time": "2021-07-18T09:15:09.231386",
     "exception": false,
     "start_time": "2021-07-18T09:15:07.803360",
     "status": "completed"
    },
    "tags": []
   },
   "outputs": [
    {
     "name": "stdout",
     "output_type": "stream",
     "text": [
      "MAE (Imputation):\n",
      "18062.894611872147\n"
     ]
    }
   ],
   "source": [
    "print(\"MAE (Imputation):\")\n",
    "print(score_dataset(imputed_X_train, imputed_X_valid, y_train, y_valid))"
   ]
  },
  {
   "cell_type": "markdown",
   "id": "bcde5223",
   "metadata": {
    "papermill": {
     "duration": 0.033957,
     "end_time": "2021-07-18T09:15:09.299718",
     "exception": false,
     "start_time": "2021-07-18T09:15:09.265761",
     "status": "completed"
    },
    "tags": []
   },
   "source": [
    "### Part B\n",
    "\n",
    "Compare the MAE from each approach.  Does anything surprise you about the results?  Why do you think one approach performed better than the other?"
   ]
  },
  {
   "cell_type": "code",
   "execution_count": 16,
   "id": "18bca616",
   "metadata": {
    "execution": {
     "iopub.execute_input": "2021-07-18T09:15:09.375173Z",
     "iopub.status.busy": "2021-07-18T09:15:09.374383Z",
     "iopub.status.idle": "2021-07-18T09:15:09.380815Z",
     "shell.execute_reply": "2021-07-18T09:15:09.380165Z",
     "shell.execute_reply.started": "2021-07-18T09:12:22.109498Z"
    },
    "papermill": {
     "duration": 0.045809,
     "end_time": "2021-07-18T09:15:09.380954",
     "exception": false,
     "start_time": "2021-07-18T09:15:09.335145",
     "status": "completed"
    },
    "tags": []
   },
   "outputs": [
    {
     "data": {
      "application/javascript": [
       "parent.postMessage({\"jupyterEvent\": \"custom.exercise_interaction\", \"data\": {\"outcomeType\": 1, \"valueTowardsCompletion\": 1.0, \"interactionType\": 1, \"questionType\": 4, \"questionId\": \"3.2_ImputeThought\", \"learnToolsVersion\": \"0.3.4\", \"failureMessage\": \"\", \"exceptionClass\": \"\", \"trace\": \"\"}}, \"*\")"
      ],
      "text/plain": [
       "<IPython.core.display.Javascript object>"
      ]
     },
     "metadata": {},
     "output_type": "display_data"
    },
    {
     "data": {
      "text/markdown": [
       "<span style=\"color:#33cc33\">Correct:</span> \n",
       "\n",
       "Given that thre are so few missing values in the dataset, we'd expect imputation to perform better than dropping columns entirely.  However, we see that dropping columns performs slightly better!  While this can probably partially be attributed to noise in the dataset, another potential explanation is that the imputation method is not a great match to this dataset.  That is, maybe instead of filling in the mean value, it makes more sense to set every missing value to a value of 0, to fill in the most frequently encountered value, or to use some other method.  For instance, consider the `GarageYrBlt` column (which indicates the year that the garage was built).  It's likely that in some cases, a missing value could indicate a house that does not have a garage.  Does it make more sense to fill in the median value along each column in this case?  Or could we get better results by filling in the minimum value along each column?  It's not quite clear what's best in this case, but perhaps we can rule out some options immediately - for instance, setting missing values in this column to 0 is likely to yield horrible results!"
      ],
      "text/plain": [
       "Correct: \n",
       "\n",
       "Given that thre are so few missing values in the dataset, we'd expect imputation to perform better than dropping columns entirely.  However, we see that dropping columns performs slightly better!  While this can probably partially be attributed to noise in the dataset, another potential explanation is that the imputation method is not a great match to this dataset.  That is, maybe instead of filling in the mean value, it makes more sense to set every missing value to a value of 0, to fill in the most frequently encountered value, or to use some other method.  For instance, consider the `GarageYrBlt` column (which indicates the year that the garage was built).  It's likely that in some cases, a missing value could indicate a house that does not have a garage.  Does it make more sense to fill in the median value along each column in this case?  Or could we get better results by filling in the minimum value along each column?  It's not quite clear what's best in this case, but perhaps we can rule out some options immediately - for instance, setting missing values in this column to 0 is likely to yield horrible results!"
      ]
     },
     "metadata": {},
     "output_type": "display_data"
    }
   ],
   "source": [
    "# Check your answer (Run this code cell to receive credit!)\n",
    "step_3.b.check()"
   ]
  },
  {
   "cell_type": "code",
   "execution_count": 17,
   "id": "b410b917",
   "metadata": {
    "execution": {
     "iopub.execute_input": "2021-07-18T09:15:09.457270Z",
     "iopub.status.busy": "2021-07-18T09:15:09.456570Z",
     "iopub.status.idle": "2021-07-18T09:15:09.459605Z",
     "shell.execute_reply": "2021-07-18T09:15:09.458982Z"
    },
    "papermill": {
     "duration": 0.043162,
     "end_time": "2021-07-18T09:15:09.459753",
     "exception": false,
     "start_time": "2021-07-18T09:15:09.416591",
     "status": "completed"
    },
    "tags": []
   },
   "outputs": [],
   "source": [
    "#step_3.b.hint()"
   ]
  },
  {
   "cell_type": "markdown",
   "id": "b43aefb4",
   "metadata": {
    "papermill": {
     "duration": 0.035255,
     "end_time": "2021-07-18T09:15:09.531083",
     "exception": false,
     "start_time": "2021-07-18T09:15:09.495828",
     "status": "completed"
    },
    "tags": []
   },
   "source": [
    "# Step 4: Generate test predictions\n",
    "\n",
    "In this final step, you'll use any approach of your choosing to deal with missing values.  Once you've preprocessed the training and validation features, you'll train and evaluate a random forest model.  Then, you'll preprocess the test data before generating predictions that can be submitted to the competition!\n",
    "\n",
    "### Part A\n",
    "\n",
    "Use the next code cell to preprocess the training and validation data.  Set the preprocessed DataFrames to `final_X_train` and `final_X_valid`.  **You can use any approach of your choosing here!**  in order for this step to be marked as correct, you need only ensure:\n",
    "- the preprocessed DataFrames have the same number of columns,\n",
    "- the preprocessed DataFrames have no missing values, \n",
    "- `final_X_train` and `y_train` have the same number of rows, and\n",
    "- `final_X_valid` and `y_valid` have the same number of rows."
   ]
  },
  {
   "cell_type": "code",
   "execution_count": 18,
   "id": "6206fe4e",
   "metadata": {
    "execution": {
     "iopub.execute_input": "2021-07-18T09:15:09.610059Z",
     "iopub.status.busy": "2021-07-18T09:15:09.609317Z",
     "iopub.status.idle": "2021-07-18T09:15:09.637599Z",
     "shell.execute_reply": "2021-07-18T09:15:09.637058Z",
     "shell.execute_reply.started": "2021-07-18T09:13:28.390062Z"
    },
    "papermill": {
     "duration": 0.071291,
     "end_time": "2021-07-18T09:15:09.637747",
     "exception": false,
     "start_time": "2021-07-18T09:15:09.566456",
     "status": "completed"
    },
    "tags": []
   },
   "outputs": [
    {
     "data": {
      "application/javascript": [
       "parent.postMessage({\"jupyterEvent\": \"custom.exercise_interaction\", \"data\": {\"outcomeType\": 1, \"valueTowardsCompletion\": 1.0, \"interactionType\": 1, \"questionType\": 2, \"questionId\": \"4.1_PredsCodeA\", \"learnToolsVersion\": \"0.3.4\", \"failureMessage\": \"\", \"exceptionClass\": \"\", \"trace\": \"\"}}, \"*\")"
      ],
      "text/plain": [
       "<IPython.core.display.Javascript object>"
      ]
     },
     "metadata": {},
     "output_type": "display_data"
    },
    {
     "data": {
      "text/markdown": [
       "<span style=\"color:#33cc33\">Correct</span>"
      ],
      "text/plain": [
       "Correct"
      ]
     },
     "metadata": {},
     "output_type": "display_data"
    }
   ],
   "source": [
    "# Preprocessed training and validation features\n",
    "# Imputation\n",
    "final_imputer = SimpleImputer(strategy='median')\n",
    "final_X_train = pd.DataFrame(final_imputer.fit_transform(X_train))\n",
    "final_X_valid = pd.DataFrame(final_imputer.transform(X_valid))\n",
    "\n",
    "# Imputation removed column names; put them back\n",
    "final_X_train.columns = X_train.columns\n",
    "final_X_valid.columns = X_valid.columns\n",
    "\n",
    "# Check your answers\n",
    "step_4.a.check()"
   ]
  },
  {
   "cell_type": "code",
   "execution_count": 19,
   "id": "d826d220",
   "metadata": {
    "execution": {
     "iopub.execute_input": "2021-07-18T09:15:09.714936Z",
     "iopub.status.busy": "2021-07-18T09:15:09.714299Z",
     "iopub.status.idle": "2021-07-18T09:15:09.717047Z",
     "shell.execute_reply": "2021-07-18T09:15:09.717563Z",
     "shell.execute_reply.started": "2021-07-18T09:13:32.105190Z"
    },
    "papermill": {
     "duration": 0.043376,
     "end_time": "2021-07-18T09:15:09.717732",
     "exception": false,
     "start_time": "2021-07-18T09:15:09.674356",
     "status": "completed"
    },
    "tags": []
   },
   "outputs": [],
   "source": [
    "# Lines below will give you a hint or solution code\n",
    "#step_4.a.hint()\n",
    "#step_4.a.solution()"
   ]
  },
  {
   "cell_type": "markdown",
   "id": "986fbbc0",
   "metadata": {
    "papermill": {
     "duration": 0.036829,
     "end_time": "2021-07-18T09:15:09.791092",
     "exception": false,
     "start_time": "2021-07-18T09:15:09.754263",
     "status": "completed"
    },
    "tags": []
   },
   "source": [
    "Run the next code cell to train and evaluate a random forest model.  (*Note that we don't use the `score_dataset()` function above, because we will soon use the trained model to generate test predictions!*)"
   ]
  },
  {
   "cell_type": "code",
   "execution_count": 20,
   "id": "9595397c",
   "metadata": {
    "execution": {
     "iopub.execute_input": "2021-07-18T09:15:09.873469Z",
     "iopub.status.busy": "2021-07-18T09:15:09.872820Z",
     "iopub.status.idle": "2021-07-18T09:15:11.258635Z",
     "shell.execute_reply": "2021-07-18T09:15:11.258069Z",
     "shell.execute_reply.started": "2021-07-18T09:13:35.548753Z"
    },
    "papermill": {
     "duration": 1.429407,
     "end_time": "2021-07-18T09:15:11.258794",
     "exception": false,
     "start_time": "2021-07-18T09:15:09.829387",
     "status": "completed"
    },
    "tags": []
   },
   "outputs": [
    {
     "name": "stdout",
     "output_type": "stream",
     "text": [
      "MAE (Your approach):\n",
      "17791.59899543379\n"
     ]
    }
   ],
   "source": [
    "# Define and fit model\n",
    "model = RandomForestRegressor(n_estimators=100, random_state=0)\n",
    "model.fit(final_X_train, y_train)\n",
    "\n",
    "# Get validation predictions and MAE\n",
    "preds_valid = model.predict(final_X_valid)\n",
    "print(\"MAE (Your approach):\")\n",
    "print(mean_absolute_error(y_valid, preds_valid))"
   ]
  },
  {
   "cell_type": "markdown",
   "id": "92ee9351",
   "metadata": {
    "papermill": {
     "duration": 0.036658,
     "end_time": "2021-07-18T09:15:11.332953",
     "exception": false,
     "start_time": "2021-07-18T09:15:11.296295",
     "status": "completed"
    },
    "tags": []
   },
   "source": [
    "### Part B\n",
    "\n",
    "Use the next code cell to preprocess your test data.  Make sure that you use a method that agrees with how you preprocessed the training and validation data, and set the preprocessed test features to `final_X_test`.\n",
    "\n",
    "Then, use the preprocessed test features and the trained model to generate test predictions in `preds_test`.\n",
    "\n",
    "In order for this step to be marked correct, you need only ensure:\n",
    "- the preprocessed test DataFrame has no missing values, and\n",
    "- `final_X_test` has the same number of rows as `X_test`."
   ]
  },
  {
   "cell_type": "code",
   "execution_count": 21,
   "id": "050f8842",
   "metadata": {
    "execution": {
     "iopub.execute_input": "2021-07-18T09:15:11.414209Z",
     "iopub.status.busy": "2021-07-18T09:15:11.413466Z",
     "iopub.status.idle": "2021-07-18T09:15:11.459913Z",
     "shell.execute_reply": "2021-07-18T09:15:11.460387Z",
     "shell.execute_reply.started": "2021-07-18T09:14:08.748754Z"
    },
    "papermill": {
     "duration": 0.090697,
     "end_time": "2021-07-18T09:15:11.460583",
     "exception": false,
     "start_time": "2021-07-18T09:15:11.369886",
     "status": "completed"
    },
    "tags": []
   },
   "outputs": [
    {
     "data": {
      "application/javascript": [
       "parent.postMessage({\"jupyterEvent\": \"custom.exercise_interaction\", \"data\": {\"outcomeType\": 1, \"valueTowardsCompletion\": 1.0, \"interactionType\": 1, \"questionType\": 2, \"questionId\": \"4.2_PredsCodeB\", \"learnToolsVersion\": \"0.3.4\", \"failureMessage\": \"\", \"exceptionClass\": \"\", \"trace\": \"\"}}, \"*\")"
      ],
      "text/plain": [
       "<IPython.core.display.Javascript object>"
      ]
     },
     "metadata": {},
     "output_type": "display_data"
    },
    {
     "data": {
      "text/markdown": [
       "<span style=\"color:#33cc33\">Correct</span>"
      ],
      "text/plain": [
       "Correct"
      ]
     },
     "metadata": {},
     "output_type": "display_data"
    }
   ],
   "source": [
    "# Fill in the line below: preprocess test data\n",
    "final_X_test = pd.DataFrame(final_imputer.transform(X_test))\n",
    "\n",
    "# Get test predictions\n",
    "preds_test = model.predict(final_X_test)\n",
    "\n",
    "# Check your answers\n",
    "step_4.b.check()"
   ]
  },
  {
   "cell_type": "code",
   "execution_count": 22,
   "id": "5f418d18",
   "metadata": {
    "execution": {
     "iopub.execute_input": "2021-07-18T09:15:11.540201Z",
     "iopub.status.busy": "2021-07-18T09:15:11.539482Z",
     "iopub.status.idle": "2021-07-18T09:15:11.542030Z",
     "shell.execute_reply": "2021-07-18T09:15:11.541382Z",
     "shell.execute_reply.started": "2021-07-18T09:14:15.170366Z"
    },
    "papermill": {
     "duration": 0.043975,
     "end_time": "2021-07-18T09:15:11.542171",
     "exception": false,
     "start_time": "2021-07-18T09:15:11.498196",
     "status": "completed"
    },
    "tags": []
   },
   "outputs": [],
   "source": [
    "# Lines below will give you a hint or solution code\n",
    "#step_4.b.hint()\n",
    "#step_4.b.solution()"
   ]
  },
  {
   "cell_type": "markdown",
   "id": "3c18701c",
   "metadata": {
    "papermill": {
     "duration": 0.037987,
     "end_time": "2021-07-18T09:15:11.617878",
     "exception": false,
     "start_time": "2021-07-18T09:15:11.579891",
     "status": "completed"
    },
    "tags": []
   },
   "source": [
    "Run the next code cell without changes to save your results to a CSV file that can be submitted directly to the competition."
   ]
  },
  {
   "cell_type": "code",
   "execution_count": 23,
   "id": "f223d609",
   "metadata": {
    "execution": {
     "iopub.execute_input": "2021-07-18T09:15:11.697511Z",
     "iopub.status.busy": "2021-07-18T09:15:11.696847Z",
     "iopub.status.idle": "2021-07-18T09:15:11.711134Z",
     "shell.execute_reply": "2021-07-18T09:15:11.710391Z",
     "shell.execute_reply.started": "2021-07-18T09:14:17.759478Z"
    },
    "papermill": {
     "duration": 0.054952,
     "end_time": "2021-07-18T09:15:11.711290",
     "exception": false,
     "start_time": "2021-07-18T09:15:11.656338",
     "status": "completed"
    },
    "tags": []
   },
   "outputs": [],
   "source": [
    "# Save test predictions to file\n",
    "output = pd.DataFrame({'Id': X_test.index,\n",
    "                       'SalePrice': preds_test})\n",
    "output.to_csv('submission.csv', index=False)"
   ]
  },
  {
   "cell_type": "markdown",
   "id": "425bf78c",
   "metadata": {
    "papermill": {
     "duration": 0.038027,
     "end_time": "2021-07-18T09:15:11.787240",
     "exception": false,
     "start_time": "2021-07-18T09:15:11.749213",
     "status": "completed"
    },
    "tags": []
   },
   "source": [
    "# Submit your results\n",
    "\n",
    "Once you have successfully completed Step 4, you're ready to submit your results to the leaderboard!  (_You also learned how to do this in the previous exercise.  If you need a reminder of how to do this, please use the instructions below._)  \n",
    "\n",
    "First, you'll need to join the competition if you haven't already.  So open a new window by clicking on [this link](https://www.kaggle.com/c/home-data-for-ml-course).  Then click on the **Join Competition** button.\n",
    "\n",
    "![join competition image](https://i.imgur.com/wLmFtH3.png)\n",
    "\n",
    "Next, follow the instructions below:\n",
    "1. Begin by clicking on the blue **Save Version** button in the top right corner of the window.  This will generate a pop-up window.  \n",
    "2. Ensure that the **Save and Run All** option is selected, and then click on the blue **Save** button.\n",
    "3. This generates a window in the bottom left corner of the notebook.  After it has finished running, click on the number to the right of the **Save Version** button.  This pulls up a list of versions on the right of the screen.  Click on the ellipsis **(...)** to the right of the most recent version, and select **Open in Viewer**.  This brings you into view mode of the same page. You will need to scroll down to get back to these instructions.\n",
    "4. Click on the **Output** tab on the right of the screen.  Then, click on the file you would like to submit, and click on the blue **Submit** button to submit your results to the leaderboard.\n",
    "\n",
    "You have now successfully submitted to the competition!\n",
    "\n",
    "If you want to keep working to improve your performance, select the blue **Edit** button in the top right of the screen. Then you can change your code and repeat the process. There's a lot of room to improve, and you will climb up the leaderboard as you work.\n",
    "\n",
    "\n",
    "# Keep going\n",
    "\n",
    "Move on to learn what **[categorical variables](https://www.kaggle.com/alexisbcook/categorical-variables)** are, along with how to incorporate them into your machine learning models.  Categorical variables are very common in real-world data, but you'll get an error if you try to plug them into your models without processing them first!"
   ]
  },
  {
   "cell_type": "markdown",
   "id": "7f1cc262",
   "metadata": {
    "papermill": {
     "duration": 0.037817,
     "end_time": "2021-07-18T09:15:11.863013",
     "exception": false,
     "start_time": "2021-07-18T09:15:11.825196",
     "status": "completed"
    },
    "tags": []
   },
   "source": [
    "---\n",
    "\n",
    "\n",
    "\n",
    "\n",
    "*Have questions or comments? Visit the [Learn Discussion forum](https://www.kaggle.com/learn-forum/161289) to chat with other Learners.*"
   ]
  }
 ],
 "metadata": {
  "kernelspec": {
   "display_name": "Python 3",
   "language": "python",
   "name": "python3"
  },
  "language_info": {
   "codemirror_mode": {
    "name": "ipython",
    "version": 3
   },
   "file_extension": ".py",
   "mimetype": "text/x-python",
   "name": "python",
   "nbconvert_exporter": "python",
   "pygments_lexer": "ipython3",
   "version": "3.7.10"
  },
  "papermill": {
   "default_parameters": {},
   "duration": 18.579448,
   "end_time": "2021-07-18T09:15:12.712954",
   "environment_variables": {},
   "exception": null,
   "input_path": "__notebook__.ipynb",
   "output_path": "__notebook__.ipynb",
   "parameters": {},
   "start_time": "2021-07-18T09:14:54.133506",
   "version": "2.3.3"
  }
 },
 "nbformat": 4,
 "nbformat_minor": 5
}
