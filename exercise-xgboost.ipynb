{
 "cells": [
  {
   "cell_type": "markdown",
   "id": "3cc6e7be",
   "metadata": {
    "papermill": {
     "duration": 0.015883,
     "end_time": "2021-07-18T20:17:56.315028",
     "exception": false,
     "start_time": "2021-07-18T20:17:56.299145",
     "status": "completed"
    },
    "tags": []
   },
   "source": [
    "**This notebook is an exercise in the [Intermediate Machine Learning](https://www.kaggle.com/learn/intermediate-machine-learning) course.  You can reference the tutorial at [this link](https://www.kaggle.com/alexisbcook/xgboost).**\n",
    "\n",
    "---\n"
   ]
  },
  {
   "cell_type": "markdown",
   "id": "34571106",
   "metadata": {
    "papermill": {
     "duration": 0.014955,
     "end_time": "2021-07-18T20:17:56.348071",
     "exception": false,
     "start_time": "2021-07-18T20:17:56.333116",
     "status": "completed"
    },
    "tags": []
   },
   "source": [
    "In this exercise, you will use your new knowledge to train a model with **gradient boosting**.\n",
    "\n",
    "# Setup\n",
    "\n",
    "The questions below will give you feedback on your work. Run the following cell to set up the feedback system."
   ]
  },
  {
   "cell_type": "code",
   "execution_count": 1,
   "id": "37240f80",
   "metadata": {
    "execution": {
     "iopub.execute_input": "2021-07-18T20:17:56.393014Z",
     "iopub.status.busy": "2021-07-18T20:17:56.391948Z",
     "iopub.status.idle": "2021-07-18T20:17:58.532305Z",
     "shell.execute_reply": "2021-07-18T20:17:58.533426Z",
     "shell.execute_reply.started": "2021-07-18T14:02:25.694948Z"
    },
    "papermill": {
     "duration": 2.170505,
     "end_time": "2021-07-18T20:17:58.533807",
     "exception": false,
     "start_time": "2021-07-18T20:17:56.363302",
     "status": "completed"
    },
    "tags": []
   },
   "outputs": [
    {
     "name": "stdout",
     "output_type": "stream",
     "text": [
      "Setup Complete\n"
     ]
    }
   ],
   "source": [
    "# Set up code checking\n",
    "import os\n",
    "if not os.path.exists(\"../input/train.csv\"):\n",
    "    os.symlink(\"../input/home-data-for-ml-course/train.csv\", \"../input/train.csv\")  \n",
    "    os.symlink(\"../input/home-data-for-ml-course/test.csv\", \"../input/test.csv\") \n",
    "from learntools.core import binder\n",
    "binder.bind(globals())\n",
    "from learntools.ml_intermediate.ex6 import *\n",
    "print(\"Setup Complete\")"
   ]
  },
  {
   "cell_type": "markdown",
   "id": "1831a73a",
   "metadata": {
    "papermill": {
     "duration": 0.014957,
     "end_time": "2021-07-18T20:17:58.565169",
     "exception": false,
     "start_time": "2021-07-18T20:17:58.550212",
     "status": "completed"
    },
    "tags": []
   },
   "source": [
    "You will work with the [Housing Prices Competition for Kaggle Learn Users](https://www.kaggle.com/c/home-data-for-ml-course) dataset from the previous exercise. \n",
    "\n",
    "![Ames Housing dataset image](https://i.imgur.com/lTJVG4e.png)\n",
    "\n",
    "Run the next code cell without changes to load the training and validation sets in `X_train`, `X_valid`, `y_train`, and `y_valid`.  The test set is loaded in `X_test`."
   ]
  },
  {
   "cell_type": "code",
   "execution_count": 2,
   "id": "25c3c86a",
   "metadata": {
    "execution": {
     "iopub.execute_input": "2021-07-18T20:17:58.607515Z",
     "iopub.status.busy": "2021-07-18T20:17:58.606550Z",
     "iopub.status.idle": "2021-07-18T20:17:58.833344Z",
     "shell.execute_reply": "2021-07-18T20:17:58.832806Z",
     "shell.execute_reply.started": "2021-07-18T14:05:22.66637Z"
    },
    "papermill": {
     "duration": 0.253044,
     "end_time": "2021-07-18T20:17:58.833488",
     "exception": false,
     "start_time": "2021-07-18T20:17:58.580444",
     "status": "completed"
    },
    "tags": []
   },
   "outputs": [],
   "source": [
    "import pandas as pd\n",
    "from sklearn.model_selection import train_test_split\n",
    "\n",
    "# Read the data\n",
    "X = pd.read_csv('../input/train.csv', index_col='Id')\n",
    "X_test_full = pd.read_csv('../input/test.csv', index_col='Id')\n",
    "\n",
    "# Remove rows with missing target, separate target from predictors\n",
    "X.dropna(axis=0, subset=['SalePrice'], inplace=True)\n",
    "y = X.SalePrice              \n",
    "X.drop(['SalePrice'], axis=1, inplace=True)\n",
    "\n",
    "# Break off validation set from training data\n",
    "X_train_full, X_valid_full, y_train, y_valid = train_test_split(X, y, train_size=0.8, test_size=0.2,\n",
    "                                                                random_state=0)\n",
    "\n",
    "# \"Cardinality\" means the number of unique values in a column\n",
    "# Select categorical columns with relatively low cardinality (convenient but arbitrary)\n",
    "low_cardinality_cols = [cname for cname in X_train_full.columns if X_train_full[cname].nunique() < 10 and \n",
    "                        X_train_full[cname].dtype == \"object\"]\n",
    "\n",
    "# Select numeric columns\n",
    "numeric_cols = [cname for cname in X_train_full.columns if X_train_full[cname].dtype in ['int64', 'float64']]\n",
    "\n",
    "# Keep selected columns only\n",
    "my_cols = low_cardinality_cols + numeric_cols\n",
    "X_train = X_train_full[my_cols].copy()\n",
    "X_valid = X_valid_full[my_cols].copy()\n",
    "X_test = X_test_full[my_cols].copy()\n",
    "\n",
    "# One-hot encode the data (to shorten the code, we use pandas)\n",
    "X_train = pd.get_dummies(X_train)\n",
    "X_valid = pd.get_dummies(X_valid)\n",
    "X_test = pd.get_dummies(X_test)\n",
    "X_train, X_valid = X_train.align(X_valid, join='left', axis=1)\n",
    "X_train, X_test = X_train.align(X_test, join='left', axis=1)"
   ]
  },
  {
   "cell_type": "markdown",
   "id": "a8b621a0",
   "metadata": {
    "papermill": {
     "duration": 0.015382,
     "end_time": "2021-07-18T20:17:58.864443",
     "exception": false,
     "start_time": "2021-07-18T20:17:58.849061",
     "status": "completed"
    },
    "tags": []
   },
   "source": [
    "# Step 1: Build model\n",
    "\n",
    "### Part A\n",
    "\n",
    "In this step, you'll build and train your first model with gradient boosting.\n",
    "\n",
    "- Begin by setting `my_model_1` to an XGBoost model.  Use the [XGBRegressor](https://xgboost.readthedocs.io/en/latest/python/python_api.html#xgboost.XGBRegressor) class, and set the random seed to 0 (`random_state=0`).  **Leave all other parameters as default.**\n",
    "- Then, fit the model to the training data in `X_train` and `y_train`."
   ]
  },
  {
   "cell_type": "code",
   "execution_count": 3,
   "id": "787eb7a8",
   "metadata": {
    "execution": {
     "iopub.execute_input": "2021-07-18T20:17:58.907153Z",
     "iopub.status.busy": "2021-07-18T20:17:58.900260Z",
     "iopub.status.idle": "2021-07-18T20:17:59.592866Z",
     "shell.execute_reply": "2021-07-18T20:17:59.593373Z",
     "shell.execute_reply.started": "2021-07-18T14:06:31.60002Z"
    },
    "papermill": {
     "duration": 0.713511,
     "end_time": "2021-07-18T20:17:59.593550",
     "exception": false,
     "start_time": "2021-07-18T20:17:58.880039",
     "status": "completed"
    },
    "tags": []
   },
   "outputs": [
    {
     "data": {
      "application/javascript": [
       "parent.postMessage({\"jupyterEvent\": \"custom.exercise_interaction\", \"data\": {\"outcomeType\": 1, \"valueTowardsCompletion\": 0.5, \"interactionType\": 1, \"questionType\": 2, \"questionId\": \"1.1_Model1A\", \"learnToolsVersion\": \"0.3.4\", \"failureMessage\": \"\", \"exceptionClass\": \"\", \"trace\": \"\"}}, \"*\")"
      ],
      "text/plain": [
       "<IPython.core.display.Javascript object>"
      ]
     },
     "metadata": {},
     "output_type": "display_data"
    },
    {
     "data": {
      "text/markdown": [
       "<span style=\"color:#33cc33\">Correct</span>"
      ],
      "text/plain": [
       "Correct"
      ]
     },
     "metadata": {},
     "output_type": "display_data"
    }
   ],
   "source": [
    "from xgboost import XGBRegressor\n",
    "\n",
    "# Define the model\n",
    "my_model_1 = XGBRegressor()\n",
    "\n",
    "# Fit the model\n",
    "my_model_1.fit(X_train,y_train) # Your code here\n",
    "\n",
    "# Check your answer\n",
    "step_1.a.check()"
   ]
  },
  {
   "cell_type": "code",
   "execution_count": 4,
   "id": "afb76b12",
   "metadata": {
    "execution": {
     "iopub.execute_input": "2021-07-18T20:17:59.630345Z",
     "iopub.status.busy": "2021-07-18T20:17:59.629681Z",
     "iopub.status.idle": "2021-07-18T20:17:59.633518Z",
     "shell.execute_reply": "2021-07-18T20:17:59.633012Z"
    },
    "papermill": {
     "duration": 0.023183,
     "end_time": "2021-07-18T20:17:59.633657",
     "exception": false,
     "start_time": "2021-07-18T20:17:59.610474",
     "status": "completed"
    },
    "tags": []
   },
   "outputs": [],
   "source": [
    "# Lines below will give you a hint or solution code\n",
    "#step_1.a.hint()\n",
    "#step_1.a.solution()"
   ]
  },
  {
   "cell_type": "markdown",
   "id": "4a1f1d23",
   "metadata": {
    "papermill": {
     "duration": 0.016401,
     "end_time": "2021-07-18T20:17:59.666542",
     "exception": false,
     "start_time": "2021-07-18T20:17:59.650141",
     "status": "completed"
    },
    "tags": []
   },
   "source": [
    "### Part B\n",
    "\n",
    "Set `predictions_1` to the model's predictions for the validation data.  Recall that the validation features are stored in `X_valid`."
   ]
  },
  {
   "cell_type": "code",
   "execution_count": 5,
   "id": "e35f1af4",
   "metadata": {
    "execution": {
     "iopub.execute_input": "2021-07-18T20:17:59.705115Z",
     "iopub.status.busy": "2021-07-18T20:17:59.704446Z",
     "iopub.status.idle": "2021-07-18T20:17:59.716629Z",
     "shell.execute_reply": "2021-07-18T20:17:59.717144Z",
     "shell.execute_reply.started": "2021-07-18T14:07:01.536114Z"
    },
    "papermill": {
     "duration": 0.034309,
     "end_time": "2021-07-18T20:17:59.717348",
     "exception": false,
     "start_time": "2021-07-18T20:17:59.683039",
     "status": "completed"
    },
    "tags": []
   },
   "outputs": [
    {
     "data": {
      "application/javascript": [
       "parent.postMessage({\"jupyterEvent\": \"custom.exercise_interaction\", \"data\": {\"outcomeType\": 1, \"valueTowardsCompletion\": 0.5, \"interactionType\": 1, \"questionType\": 2, \"questionId\": \"1.2_Model1B\", \"learnToolsVersion\": \"0.3.4\", \"failureMessage\": \"\", \"exceptionClass\": \"\", \"trace\": \"\"}}, \"*\")"
      ],
      "text/plain": [
       "<IPython.core.display.Javascript object>"
      ]
     },
     "metadata": {},
     "output_type": "display_data"
    },
    {
     "data": {
      "text/markdown": [
       "<span style=\"color:#33cc33\">Correct</span>"
      ],
      "text/plain": [
       "Correct"
      ]
     },
     "metadata": {},
     "output_type": "display_data"
    }
   ],
   "source": [
    "from sklearn.metrics import mean_absolute_error\n",
    "\n",
    "# Get predictions\n",
    "predictions_1 = my_model_1.predict(X_valid) # Your code here\n",
    "\n",
    "# Check your answer\n",
    "step_1.b.check()"
   ]
  },
  {
   "cell_type": "code",
   "execution_count": 6,
   "id": "3f2a79e9",
   "metadata": {
    "execution": {
     "iopub.execute_input": "2021-07-18T20:17:59.758275Z",
     "iopub.status.busy": "2021-07-18T20:17:59.757166Z",
     "iopub.status.idle": "2021-07-18T20:17:59.760187Z",
     "shell.execute_reply": "2021-07-18T20:17:59.759556Z"
    },
    "papermill": {
     "duration": 0.024301,
     "end_time": "2021-07-18T20:17:59.760318",
     "exception": false,
     "start_time": "2021-07-18T20:17:59.736017",
     "status": "completed"
    },
    "tags": []
   },
   "outputs": [],
   "source": [
    "# Lines below will give you a hint or solution code\n",
    "#step_1.b.hint()\n",
    "#step_1.b.solution()"
   ]
  },
  {
   "cell_type": "markdown",
   "id": "f3eb7202",
   "metadata": {
    "papermill": {
     "duration": 0.017936,
     "end_time": "2021-07-18T20:17:59.795964",
     "exception": false,
     "start_time": "2021-07-18T20:17:59.778028",
     "status": "completed"
    },
    "tags": []
   },
   "source": [
    "### Part C\n",
    "\n",
    "Finally, use the `mean_absolute_error()` function to calculate the mean absolute error (MAE) corresponding to the predictions for the validation set.  Recall that the labels for the validation data are stored in `y_valid`."
   ]
  },
  {
   "cell_type": "code",
   "execution_count": 7,
   "id": "e1bd0c80",
   "metadata": {
    "execution": {
     "iopub.execute_input": "2021-07-18T20:17:59.839286Z",
     "iopub.status.busy": "2021-07-18T20:17:59.838233Z",
     "iopub.status.idle": "2021-07-18T20:17:59.845239Z",
     "shell.execute_reply": "2021-07-18T20:17:59.845752Z",
     "shell.execute_reply.started": "2021-07-18T14:08:13.394436Z"
    },
    "papermill": {
     "duration": 0.032113,
     "end_time": "2021-07-18T20:17:59.845918",
     "exception": false,
     "start_time": "2021-07-18T20:17:59.813805",
     "status": "completed"
    },
    "tags": []
   },
   "outputs": [
    {
     "name": "stdout",
     "output_type": "stream",
     "text": [
      "Mean Absolute Error: 17662.736729452055\n"
     ]
    },
    {
     "data": {
      "application/javascript": [
       "parent.postMessage({\"jupyterEvent\": \"custom.exercise_interaction\", \"data\": {\"outcomeType\": 1, \"valueTowardsCompletion\": 0.5, \"interactionType\": 1, \"questionType\": 2, \"questionId\": \"1.3_Model1C\", \"learnToolsVersion\": \"0.3.4\", \"failureMessage\": \"\", \"exceptionClass\": \"\", \"trace\": \"\"}}, \"*\")"
      ],
      "text/plain": [
       "<IPython.core.display.Javascript object>"
      ]
     },
     "metadata": {},
     "output_type": "display_data"
    },
    {
     "data": {
      "text/markdown": [
       "<span style=\"color:#33cc33\">Correct</span>"
      ],
      "text/plain": [
       "Correct"
      ]
     },
     "metadata": {},
     "output_type": "display_data"
    }
   ],
   "source": [
    "# Calculate MAE\n",
    "mae_1 =mean_absolute_error(predictions_1, y_valid) # Your code here\n",
    "\n",
    "# Uncomment to print MAE\n",
    "print(\"Mean Absolute Error:\" , mae_1)\n",
    "\n",
    "# Check your answer\n",
    "step_1.c.check()"
   ]
  },
  {
   "cell_type": "code",
   "execution_count": 8,
   "id": "4cd2907d",
   "metadata": {
    "execution": {
     "iopub.execute_input": "2021-07-18T20:17:59.888801Z",
     "iopub.status.busy": "2021-07-18T20:17:59.887832Z",
     "iopub.status.idle": "2021-07-18T20:17:59.891583Z",
     "shell.execute_reply": "2021-07-18T20:17:59.890975Z"
    },
    "papermill": {
     "duration": 0.026844,
     "end_time": "2021-07-18T20:17:59.891717",
     "exception": false,
     "start_time": "2021-07-18T20:17:59.864873",
     "status": "completed"
    },
    "tags": []
   },
   "outputs": [],
   "source": [
    "# Lines below will give you a hint or solution code\n",
    "#step_1.c.hint()\n",
    "#step_1.c.solution()"
   ]
  },
  {
   "cell_type": "markdown",
   "id": "61799c9c",
   "metadata": {
    "papermill": {
     "duration": 0.018491,
     "end_time": "2021-07-18T20:17:59.929505",
     "exception": false,
     "start_time": "2021-07-18T20:17:59.911014",
     "status": "completed"
    },
    "tags": []
   },
   "source": [
    "# Step 2: Improve the model\n",
    "\n",
    "Now that you've trained a default model as baseline, it's time to tinker with the parameters, to see if you can get better performance!\n",
    "- Begin by setting `my_model_2` to an XGBoost model, using the [XGBRegressor](https://xgboost.readthedocs.io/en/latest/python/python_api.html#xgboost.XGBRegressor) class.  Use what you learned in the previous tutorial to figure out how to change the default parameters (like `n_estimators` and `learning_rate`) to get better results.\n",
    "- Then, fit the model to the training data in `X_train` and `y_train`.\n",
    "- Set `predictions_2` to the model's predictions for the validation data.  Recall that the validation features are stored in `X_valid`.\n",
    "- Finally, use the `mean_absolute_error()` function to calculate the mean absolute error (MAE) corresponding to the predictions on the validation set.  Recall that the labels for the validation data are stored in `y_valid`.\n",
    "\n",
    "In order for this step to be marked correct, your model in `my_model_2` must attain lower MAE than the model in `my_model_1`. "
   ]
  },
  {
   "cell_type": "code",
   "execution_count": 9,
   "id": "447f352a",
   "metadata": {
    "execution": {
     "iopub.execute_input": "2021-07-18T20:17:59.981616Z",
     "iopub.status.busy": "2021-07-18T20:17:59.978008Z",
     "iopub.status.idle": "2021-07-18T20:18:06.584176Z",
     "shell.execute_reply": "2021-07-18T20:18:06.584788Z",
     "shell.execute_reply.started": "2021-07-18T14:08:39.411002Z"
    },
    "papermill": {
     "duration": 6.636628,
     "end_time": "2021-07-18T20:18:06.584999",
     "exception": false,
     "start_time": "2021-07-18T20:17:59.948371",
     "status": "completed"
    },
    "tags": []
   },
   "outputs": [
    {
     "name": "stdout",
     "output_type": "stream",
     "text": [
      "Mean Absolute Error: 16688.691513270547\n"
     ]
    },
    {
     "data": {
      "application/javascript": [
       "parent.postMessage({\"jupyterEvent\": \"custom.exercise_interaction\", \"data\": {\"outcomeType\": 1, \"valueTowardsCompletion\": 0.5, \"interactionType\": 1, \"questionType\": 2, \"questionId\": \"2_Model2\", \"learnToolsVersion\": \"0.3.4\", \"failureMessage\": \"\", \"exceptionClass\": \"\", \"trace\": \"\"}}, \"*\")"
      ],
      "text/plain": [
       "<IPython.core.display.Javascript object>"
      ]
     },
     "metadata": {},
     "output_type": "display_data"
    },
    {
     "data": {
      "text/markdown": [
       "<span style=\"color:#33cc33\">Correct</span>"
      ],
      "text/plain": [
       "Correct"
      ]
     },
     "metadata": {},
     "output_type": "display_data"
    }
   ],
   "source": [
    "# Define the model\n",
    "my_model_2 = XGBRegressor(n_estimators=1000, learning_rate=0.05)\n",
    "\n",
    "# Fit the model\n",
    "my_model_2.fit(X_train, y_train)\n",
    "\n",
    "# Get predictions\n",
    "predictions_2 = my_model_2.predict(X_valid)\n",
    "\n",
    "# Calculate MAE\n",
    "mae_2 = mean_absolute_error(predictions_2, y_valid)\n",
    "print(\"Mean Absolute Error:\" , mae_2)\n",
    "\n",
    "# Check your answer\n",
    "step_2.check()"
   ]
  },
  {
   "cell_type": "code",
   "execution_count": 10,
   "id": "47685ed4",
   "metadata": {
    "execution": {
     "iopub.execute_input": "2021-07-18T20:18:06.632666Z",
     "iopub.status.busy": "2021-07-18T20:18:06.632000Z",
     "iopub.status.idle": "2021-07-18T20:18:06.634944Z",
     "shell.execute_reply": "2021-07-18T20:18:06.634437Z",
     "shell.execute_reply.started": "2021-07-18T14:08:50.319642Z"
    },
    "papermill": {
     "duration": 0.027078,
     "end_time": "2021-07-18T20:18:06.635083",
     "exception": false,
     "start_time": "2021-07-18T20:18:06.608005",
     "status": "completed"
    },
    "tags": []
   },
   "outputs": [],
   "source": [
    "# Lines below will give you a hint or solution code\n",
    "#step_2.hint()\n",
    "#step_2.solution()"
   ]
  },
  {
   "cell_type": "markdown",
   "id": "0c53908e",
   "metadata": {
    "papermill": {
     "duration": 0.020578,
     "end_time": "2021-07-18T20:18:06.678049",
     "exception": false,
     "start_time": "2021-07-18T20:18:06.657471",
     "status": "completed"
    },
    "tags": []
   },
   "source": [
    "# Step 3: Break the model\n",
    "\n",
    "In this step, you will create a model that performs worse than the original model in Step 1.  This will help you to develop your intuition for how to set parameters.  You might even find that you accidentally get better performance, which is ultimately a nice problem to have and a valuable learning experience!\n",
    "- Begin by setting `my_model_3` to an XGBoost model, using the [XGBRegressor](https://xgboost.readthedocs.io/en/latest/python/python_api.html#xgboost.XGBRegressor) class.  Use what you learned in the previous tutorial to figure out how to change the default parameters (like `n_estimators` and `learning_rate`) to design a model to get high MAE.\n",
    "- Then, fit the model to the training data in `X_train` and `y_train`.\n",
    "- Set `predictions_3` to the model's predictions for the validation data.  Recall that the validation features are stored in `X_valid`.\n",
    "- Finally, use the `mean_absolute_error()` function to calculate the mean absolute error (MAE) corresponding to the predictions on the validation set.  Recall that the labels for the validation data are stored in `y_valid`.\n",
    "\n",
    "In order for this step to be marked correct, your model in `my_model_3` must attain higher MAE than the model in `my_model_1`. "
   ]
  },
  {
   "cell_type": "code",
   "execution_count": 11,
   "id": "7e0d737d",
   "metadata": {
    "execution": {
     "iopub.execute_input": "2021-07-18T20:18:06.730219Z",
     "iopub.status.busy": "2021-07-18T20:18:06.729303Z",
     "iopub.status.idle": "2021-07-18T20:18:06.767921Z",
     "shell.execute_reply": "2021-07-18T20:18:06.768501Z",
     "shell.execute_reply.started": "2021-07-18T14:10:42.350658Z"
    },
    "papermill": {
     "duration": 0.070469,
     "end_time": "2021-07-18T20:18:06.768737",
     "exception": false,
     "start_time": "2021-07-18T20:18:06.698268",
     "status": "completed"
    },
    "tags": []
   },
   "outputs": [
    {
     "name": "stdout",
     "output_type": "stream",
     "text": [
      "Mean Absolute Error: 127895.0828807256\n"
     ]
    },
    {
     "data": {
      "application/javascript": [
       "parent.postMessage({\"jupyterEvent\": \"custom.exercise_interaction\", \"data\": {\"outcomeType\": 1, \"valueTowardsCompletion\": 0.5, \"interactionType\": 1, \"questionType\": 2, \"questionId\": \"3_Model3\", \"learnToolsVersion\": \"0.3.4\", \"failureMessage\": \"\", \"exceptionClass\": \"\", \"trace\": \"\"}}, \"*\")"
      ],
      "text/plain": [
       "<IPython.core.display.Javascript object>"
      ]
     },
     "metadata": {},
     "output_type": "display_data"
    },
    {
     "data": {
      "text/markdown": [
       "<span style=\"color:#33cc33\">Correct</span>"
      ],
      "text/plain": [
       "Correct"
      ]
     },
     "metadata": {},
     "output_type": "display_data"
    }
   ],
   "source": [
    "# Define the model\n",
    "my_model_3 = XGBRegressor(n_estimators=1)\n",
    "\n",
    "# Fit the model\n",
    "my_model_3.fit(X_train, y_train)\n",
    "\n",
    "# Get predictions\n",
    "predictions_3 = my_model_3.predict(X_valid)\n",
    "\n",
    "# Calculate MAE\n",
    "mae_3 = mean_absolute_error(predictions_3, y_valid)\n",
    "print(\"Mean Absolute Error:\" , mae_3)\n",
    "\n",
    "# Check your answer\n",
    "step_3.check()"
   ]
  },
  {
   "cell_type": "code",
   "execution_count": 12,
   "id": "e164c30a",
   "metadata": {
    "execution": {
     "iopub.execute_input": "2021-07-18T20:18:06.818621Z",
     "iopub.status.busy": "2021-07-18T20:18:06.817990Z",
     "iopub.status.idle": "2021-07-18T20:18:06.819970Z",
     "shell.execute_reply": "2021-07-18T20:18:06.820414Z",
     "shell.execute_reply.started": "2021-07-18T14:10:48.585022Z"
    },
    "papermill": {
     "duration": 0.027637,
     "end_time": "2021-07-18T20:18:06.820575",
     "exception": false,
     "start_time": "2021-07-18T20:18:06.792938",
     "status": "completed"
    },
    "tags": []
   },
   "outputs": [],
   "source": [
    "# Lines below will give you a hint or solution code\n",
    "#step_3.hint()\n",
    "#step_3.solution()"
   ]
  },
  {
   "cell_type": "markdown",
   "id": "c548d596",
   "metadata": {
    "papermill": {
     "duration": 0.021968,
     "end_time": "2021-07-18T20:18:06.864763",
     "exception": false,
     "start_time": "2021-07-18T20:18:06.842795",
     "status": "completed"
    },
    "tags": []
   },
   "source": [
    "# Keep going\n",
    "\n",
    "Continue to learn about **[data leakage](https://www.kaggle.com/alexisbcook/data-leakage)**.  This is an important issue for a data scientist to understand, and it has the potential to ruin your models in subtle and dangerous ways!"
   ]
  },
  {
   "cell_type": "markdown",
   "id": "caad90e9",
   "metadata": {
    "papermill": {
     "duration": 0.02159,
     "end_time": "2021-07-18T20:18:06.908694",
     "exception": false,
     "start_time": "2021-07-18T20:18:06.887104",
     "status": "completed"
    },
    "tags": []
   },
   "source": [
    "---\n",
    "\n",
    "\n",
    "\n",
    "\n",
    "*Have questions or comments? Visit the [Learn Discussion forum](https://www.kaggle.com/learn-forum/161289) to chat with other Learners.*"
   ]
  }
 ],
 "metadata": {
  "kernelspec": {
   "display_name": "Python 3",
   "language": "python",
   "name": "python3"
  },
  "language_info": {
   "codemirror_mode": {
    "name": "ipython",
    "version": 3
   },
   "file_extension": ".py",
   "mimetype": "text/x-python",
   "name": "python",
   "nbconvert_exporter": "python",
   "pygments_lexer": "ipython3",
   "version": "3.7.10"
  },
  "papermill": {
   "default_parameters": {},
   "duration": 19.803113,
   "end_time": "2021-07-18T20:18:07.639916",
   "environment_variables": {},
   "exception": null,
   "input_path": "__notebook__.ipynb",
   "output_path": "__notebook__.ipynb",
   "parameters": {},
   "start_time": "2021-07-18T20:17:47.836803",
   "version": "2.3.3"
  }
 },
 "nbformat": 4,
 "nbformat_minor": 5
}
